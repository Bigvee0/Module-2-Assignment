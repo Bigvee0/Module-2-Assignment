{
 "cells": [
  {
   "cell_type": "markdown",
   "id": "2dfbdfce",
   "metadata": {},
   "source": [
    "\n",
    "# Assignment: Salary Data Processing and File Handling\n",
    "\n",
    "## Instructions\n",
    "\n",
    "1. **Step 1**: Ensure `salary_data.csv` is in the same directory.\n",
    "2. **Step 2**: Run the notebook to import data and view it.\n",
    "3. **Step 3**: Use `get_employee_details(\"Employee Name\")` to fetch details.\n",
    "4. **Step 4**: Use `export_employee_to_zip(\"Employee Name\")` to export and zip their profile.\n",
    "5. **Step 5**: Run the R script section to unzip and display the data.\n",
    "\n",
    "Make sure R is configured in your Jupyter environment for the R cell to work.\n"
   ]
  },
  {
   "cell_type": "code",
   "execution_count": null,
   "id": "426e6d89",
   "metadata": {},
   "outputs": [],
   "source": [
    "\n",
    "import pandas as pd\n",
    "\n",
    "# Load the salary data (assuming it is in CSV format named 'salary_data.csv')\n",
    "try:\n",
    "    salary_df = pd.read_csv('salary_data.csv')\n",
    "    print(\"Data imported successfully!\")\n",
    "    display(salary_df.head())\n",
    "except FileNotFoundError:\n",
    "    print(\"Error: salary_data.csv not found.\")\n",
    "except Exception as e:\n",
    "    print(f\"An unexpected error occurred: {e}\")\n"
   ]
  },
  {
   "cell_type": "code",
   "execution_count": null,
   "id": "859438f6",
   "metadata": {},
   "outputs": [],
   "source": [
    "\n",
    "def get_employee_details(name):\n",
    "    try:\n",
    "        employee = salary_df[salary_df['Name'].str.lower() == name.lower()]\n",
    "        if not employee.empty:\n",
    "            return employee.to_dict(orient='records')[0]\n",
    "        else:\n",
    "            raise ValueError(\"Employee not found.\")\n",
    "    except Exception as e:\n",
    "        return f\"Error: {e}\"\n"
   ]
  },
  {
   "cell_type": "code",
   "execution_count": null,
   "id": "d0f23c0b",
   "metadata": {},
   "outputs": [],
   "source": [
    "\n",
    "# Convert salary data into dictionary format with name as key\n",
    "try:\n",
    "    employee_dict = {row['Name']: row for _, row in salary_df.iterrows()}\n",
    "    print(\"Dictionary created successfully!\")\n",
    "except Exception as e:\n",
    "    print(f\"Error processing dictionary: {e}\")\n"
   ]
  },
  {
   "cell_type": "code",
   "execution_count": null,
   "id": "9f79d3e7",
   "metadata": {},
   "outputs": [],
   "source": [
    "\n",
    "import csv, os, zipfile\n",
    "\n",
    "def export_employee_to_zip(name):\n",
    "    try:\n",
    "        details = get_employee_details(name)\n",
    "        if isinstance(details, str):\n",
    "            raise ValueError(details)\n",
    "\n",
    "        os.makedirs(\"Employee Profile\", exist_ok=True)\n",
    "        filename = f\"Employee Profile/{name.replace(' ', '_')}_profile.csv\"\n",
    "\n",
    "        with open(filename, mode='w', newline='') as file:\n",
    "            writer = csv.DictWriter(file, fieldnames=details.keys())\n",
    "            writer.writeheader()\n",
    "            writer.writerow(details)\n",
    "\n",
    "        # Zip the folder\n",
    "        zip_filename = \"Employee_Profile.zip\"\n",
    "        with zipfile.ZipFile(zip_filename, 'w') as zipf:\n",
    "            zipf.write(filename)\n",
    "\n",
    "        print(f\"{name}'s details exported and zipped successfully.\")\n",
    "\n",
    "    except Exception as e:\n",
    "        print(f\"Error exporting employee details: {e}\")\n"
   ]
  },
  {
   "cell_type": "code",
   "execution_count": null,
   "id": "40cb19cd",
   "metadata": {},
   "outputs": [],
   "source": [
    "\n",
    "# %%R\n",
    "# install.packages(\"readr\") # Uncomment if 'readr' is not installed\n",
    "# install.packages(\"utils\")\n",
    "\n",
    "# Unzip and display the CSV\n",
    "# unzip(\"Employee_Profile.zip\", exdir = \"unzipped_profile\")\n",
    "# library(readr)\n",
    "# data <- read_csv(\"unzipped_profile/John_Doe_profile.csv\") # Replace with actual name\n",
    "# print(data)\n"
   ]
  }
 ],
 "metadata": {},
 "nbformat": 4,
 "nbformat_minor": 5
}
